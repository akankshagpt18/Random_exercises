{
 "cells": [
  {
   "cell_type": "code",
   "execution_count": 1,
   "metadata": {},
   "outputs": [
    {
     "name": "stdout",
     "output_type": "stream",
     "text": [
      "Enter you name Aku\n",
      "Enter you age: 30\n",
      "You name is:  Aku\n",
      "you will turn 100 in year 2089\n"
     ]
    }
   ],
   "source": [
    "#1\n",
    "name = input(\"Enter you name \")\n",
    "age = int(input(\"Enter you age: \"))\n",
    "\n",
    "\n",
    "print(\"You name is:  \" +name)\n",
    "print(\"you will turn 100 in year \" +str(2019-age+100))\n"
   ]
  },
  {
   "cell_type": "code",
   "execution_count": 2,
   "metadata": {},
   "outputs": [
    {
     "name": "stdout",
     "output_type": "stream",
     "text": [
      "Enter a number: 4\n",
      "4 is Even\n"
     ]
    }
   ],
   "source": [
    "#2\n",
    "num1 = int(input(\"Enter a number: \"))\n",
    "if num1%2==0:\n",
    "    print(str(num1)+ \" is Even\")\n",
    "else:\n",
    "    print(str(num1)+ \" is Odd\")"
   ]
  },
  {
   "cell_type": "code",
   "execution_count": 3,
   "metadata": {},
   "outputs": [
    {
     "name": "stdout",
     "output_type": "stream",
     "text": [
      "[1, 1, 2, 3, 5]\n"
     ]
    }
   ],
   "source": [
    "#3\n",
    "a = [1, 1, 2, 3, 5, 8, 13, 21, 34, 55, 89]\n",
    "x = []\n",
    "for i in a:\n",
    "    if i <=5:\n",
    "        x.append(i)\n",
    "print(x)"
   ]
  },
  {
   "cell_type": "code",
   "execution_count": 4,
   "metadata": {},
   "outputs": [
    {
     "name": "stdout",
     "output_type": "stream",
     "text": [
      "Enter a number: 52\n",
      "[1, 2, 4, 13, 26, 52]\n"
     ]
    }
   ],
   "source": [
    "#4\n",
    "\n",
    "num1 = int(input(\"Enter a number: \"))\n",
    "list = []\n",
    "\n",
    "for i in range(1, num1+1):\n",
    "    if num1%i ==0:\n",
    "        list.append(i)\n",
    "print(list)"
   ]
  },
  {
   "cell_type": "code",
   "execution_count": 5,
   "metadata": {},
   "outputs": [
    {
     "name": "stdout",
     "output_type": "stream",
     "text": [
      "[1, 2, 3, 5, 8, 13]\n"
     ]
    }
   ],
   "source": [
    "#5\n",
    "\n",
    "a = [1, 1, 2, 3, 5, 8, 13, 21, 34, 55, 89]\n",
    "b = [1, 2, 3, 4, 5, 6, 7, 8, 9, 10, 11, 12, 13]\n",
    "list= []\n",
    "\n",
    "print([i for i in set(a) if i in set(b)])"
   ]
  },
  {
   "cell_type": "code",
   "execution_count": 6,
   "metadata": {},
   "outputs": [
    {
     "name": "stdout",
     "output_type": "stream",
     "text": [
      "[1, 2, 3, 34, 5, 8, 13, 21, 55, 89]\n"
     ]
    }
   ],
   "source": [
    "x = range(1,10)\n",
    "y = range(2,15)\n",
    "\n",
    "        \n",
    "print([i for i in set(a) ])"
   ]
  },
  {
   "cell_type": "code",
   "execution_count": 7,
   "metadata": {},
   "outputs": [
    {
     "name": "stdout",
     "output_type": "stream",
     "text": [
      "Enter a string: mississippi\n",
      "MISSISSIPPI is not palindrome\n"
     ]
    }
   ],
   "source": [
    "#6\n",
    "str = input(\"Enter a string: \")\n",
    "if str[:]==str[::-1]:\n",
    "        print(str.upper()+ \" is Palindrome\")\n",
    "else:\n",
    "    print(str.upper()+ \" is not palindrome\")\n"
   ]
  },
  {
   "cell_type": "code",
   "execution_count": 8,
   "metadata": {},
   "outputs": [
    {
     "name": "stdout",
     "output_type": "stream",
     "text": [
      "[4, 16, 36, 64, 100]\n"
     ]
    }
   ],
   "source": [
    "#7\n",
    "a = [1, 4, 9, 16, 25, 36, 49, 64, 81, 100]\n",
    "list= []\n",
    "\n",
    "for i in a:\n",
    "    if i%2==0:\n",
    "        list.append(i)\n",
    "print(list)"
   ]
  },
  {
   "cell_type": "code",
   "execution_count": 9,
   "metadata": {},
   "outputs": [
    {
     "name": "stdout",
     "output_type": "stream",
     "text": [
      "Do you want to play Rock Paper Scissor (Yes or No): yes\n",
      "\u001b[1;35m\n",
      "Welcome to the game..!!\n",
      "\u001b[0m\n",
      "Enter for player1: Paper\n",
      "Enter for player2: Rock\n",
      "\u001b[1;32m\n",
      "Congratulations.! Player1 won\u001b[0m\n",
      "\n",
      "Do you want to try again(Yes or No): yes\n",
      "\u001b[1;35m\n",
      "Welcome to the game..!!\n",
      "\u001b[0m\n",
      "Enter for player1: Scissor\n",
      "Enter for player2: Rock\n",
      "\u001b[1;32m\n",
      "Congratulations.! Player2 won\u001b[0m\n",
      "\n",
      "Do you want to try again(Yes or No): No\n",
      "\u001b[1;35m\n",
      "Thank you for playing and Bye!..\u001b[0m\n"
     ]
    }
   ],
   "source": [
    "from simple_colors import *\n",
    "ip = input(\"Do you want to play Rock Paper Scissor (Yes or No): \").lower()\n",
    "count = 0\n",
    "while True:   \n",
    "    \n",
    "    if ip == 'no' or ip == 'n':\n",
    "        count +=1\n",
    "        if count >1:\n",
    "            print(magenta(\"\\nThank you for playing and Bye!..\", 'bright'))\n",
    "        else:\n",
    "            print(magenta(\"\\nThank you and Bye!..\", 'bright'))\n",
    "        break\n",
    "    elif ip == 'yes' or ip == 'y':\n",
    "            print(magenta(\"\\nWelcome to the game..!!\\n\", 'bright'))\n",
    "            player1 = input(\"Enter for player1: \").lower()\n",
    "            player2 = input(\"Enter for player2: \").lower()\n",
    "            \n",
    "            if player1 == 'rock' and player2 == 'scissor':\n",
    "                print(green(\"\\nCongratulations.! Player1 won\", 'bold'))\n",
    "        \n",
    "            elif player1 == 'scissor' and player2 == 'paper':\n",
    "                print(green(\"\\nCongratulations.! Player1 won\", 'bold'))\n",
    "        \n",
    "            elif player1 == 'paper' and player2 == 'rock':\n",
    "                print(green(\"\\nCongratulations.! Player1 won\", 'bold'))\n",
    "        \n",
    "            elif player2 == 'rock' and player1 == 'scissor':\n",
    "                print(green(\"\\nCongratulations.! Player2 won\", 'bold'))\n",
    "        \n",
    "            elif player2 == 'scissor' and player1 == 'paper':\n",
    "                print(green(\"\\nCongratulations.! Player2 won\", 'bold'))\n",
    "        \n",
    "            elif player2 == 'paper' and player1 == 'rock':\n",
    "                print(green(\"\\nCongratulations.! Player2 won\", 'bold'))\n",
    "        \n",
    "            elif player1 == player2:\n",
    "                print(cyan(\"\\nIt is a tie\", 'bright'))\n",
    "                \n",
    "            elif player1 != 'rock' or player1 != 'paper' or player != 'scissor' or player2 != 'rock' or player2 != 'paper' or player2 != 'scissor':\n",
    "                print(red(\"\\nEnter valid option\", 'underlined'))\n",
    "                break\n",
    "                \n",
    "    else:\n",
    "        pass\n",
    "    ip = input(\"\\nDo you want to try again(Yes or No): \").lower()\n",
    "    count +=1"
   ]
  },
  {
   "cell_type": "code",
   "execution_count": 15,
   "metadata": {},
   "outputs": [
    {
     "name": "stdout",
     "output_type": "stream",
     "text": [
      "Welcome..!! Do you want to play a Guess Game: yes\n",
      "Guess a number between 1 and 9: 4\n",
      "\n",
      "Your guess is too close and random number was  2\n",
      "\n",
      "Do you want to play again: yes\n",
      "Guess a number between 1 and 9: 2\n",
      "\n",
      "Congratulations.. you guessed the exact number in  2 attempts\n",
      "\n",
      "Do you want to play again: no\n",
      "\u001b[1;35m\n",
      "Thank you for playing and Have a good day..!!\u001b[0m\n",
      "And total number of count was 2\n"
     ]
    }
   ],
   "source": [
    "import random\n",
    "from simple_colors import *\n",
    "a = random.randint(1,10)\n",
    "count = 0\n",
    "guess = input(\"Welcome..!! Do you want to play a Guess Game: \").lower()\n",
    "              \n",
    "while True:\n",
    "    if guess == 'no' or guess == 'n':\n",
    "        count +=1\n",
    "        if count>1:\n",
    "            print(magenta(\"\\nThank you for playing and Have a good day..!!\", 'bold'))\n",
    "            break            \n",
    "        else:\n",
    "            print(magenta(\"\\nThank you and Have a good day..!!\", 'bold'))\n",
    "            break\n",
    "            \n",
    "    elif guess == 'yes' or guess == 'y':\n",
    "        ip = int(input(\"Guess a number between 1 and 9: \"))\n",
    "        if ip == a:\n",
    "            count +=1\n",
    "            print(\"\\nCongratulations.. you guessed the exact number in \", count, 'attempts')\n",
    "            \n",
    "        elif a-1<=ip>=a+1:\n",
    "            count +=1\n",
    "            print(\"\\nYour guess is too close and random number was \", a)\n",
    "            \n",
    "        elif ip<a-2:\n",
    "            count +=1\n",
    "            print(\"\\n Your guess is too low and random number was \", a)\n",
    "            \n",
    "        elif ip>a+2:\n",
    "            count +=1\n",
    "            print(\"\\n Your guess is too high and the random number was: \", a)\n",
    "            \n",
    "        else:\n",
    "            pass\n",
    "        \n",
    "    guess = input(\"\\nDo you want to play again: \").lower()\n",
    "print(\"And total number of count was\", count-1)\n",
    "            "
   ]
  },
  {
   "cell_type": "code",
   "execution_count": 11,
   "metadata": {},
   "outputs": [
    {
     "name": "stdout",
     "output_type": "stream",
     "text": [
      "[1, 2, 3, 5, 8, 13]\n"
     ]
    }
   ],
   "source": [
    "#10\n",
    "\n",
    "a = [1, 1, 2, 3, 5, 8, 13, 21, 34, 55, 89]\n",
    "b = [1, 2, 3, 4, 5, 6, 7, 8, 9, 10, 11, 12, 13]\n",
    "\n",
    "x = [i for i in set(a) if i in set(b)]\n",
    "print(x)"
   ]
  },
  {
   "cell_type": "code",
   "execution_count": 12,
   "metadata": {},
   "outputs": [
    {
     "name": "stdout",
     "output_type": "stream",
     "text": [
      "[]\n"
     ]
    }
   ],
   "source": [
    "#extras\n",
    "import random\n",
    "a = random.sample(range(100), 8)\n",
    "b = random.sample(range(500), 12)\n",
    "\n",
    "x = [i for i in a if i in b]\n",
    "print(x)"
   ]
  },
  {
   "cell_type": "code",
   "execution_count": 13,
   "metadata": {},
   "outputs": [
    {
     "name": "stdout",
     "output_type": "stream",
     "text": [
      "Enter a number that you want to test if it is Prime or not: 23\n",
      "\n",
      " 23 is a Prime number\n"
     ]
    }
   ],
   "source": [
    "#11\n",
    "lst = []\n",
    "def prime_check(x):\n",
    "    for i in range(1, x+1):\n",
    "        if x%i == 0:\n",
    "            lst.append(i)\n",
    "    if len(lst) == 2:\n",
    "        print('\\n', x, \"is a Prime number\")\n",
    "    else:\n",
    "        print('\\n', x, \"is not a Prime number\")\n",
    "    \n",
    "        \n",
    "x = int(input(\"Enter a number that you want to test if it is Prime or not: \"))\n",
    "prime_check(x)"
   ]
  },
  {
   "cell_type": "code",
   "execution_count": 14,
   "metadata": {},
   "outputs": [
    {
     "name": "stdout",
     "output_type": "stream",
     "text": [
      "Enter the size of the list: 4\n",
      "2\n",
      "45\n",
      "32\n",
      "98\n",
      "Given list is:  [2, 45, 32, 98]\n",
      "Random sample is [25, 45, 13, 36, 31, 19, 34, 49, 43, 48]\n",
      "And the new list is:  [2, 25, 45, 13, 36, 31, 19, 34, 49, 43, 48, 98]\n"
     ]
    }
   ],
   "source": [
    "#12\n",
    "import random\n",
    "lst = []\n",
    "num = random.sample(range(1,50),10)\n",
    "def list_end(x):\n",
    "    for i in range(0, x):\n",
    "        ip = int(input())\n",
    "        lst.append(ip)\n",
    "    print(\"Given list is: \", lst)\n",
    "    print(\"Random sample is\",  num)\n",
    "    num.insert(0,lst[0])\n",
    "    num.insert(len(num)+1,lst[-1])\n",
    "    print(\"And the new list is: \", num)\n",
    "    \n",
    "    \n",
    "    \n",
    "x = int(input(\"Enter the size of the list: \"))\n",
    "list_end(x)"
   ]
  },
  {
   "cell_type": "code",
   "execution_count": 32,
   "metadata": {},
   "outputs": [
    {
     "name": "stdout",
     "output_type": "stream",
     "text": [
      "Enter the size of the list:  10\n",
      "20\n",
      "21\n",
      "21\n",
      "20\n",
      "31\n",
      "21\n",
      "31\n",
      "30\n",
      "21\n",
      "20\n",
      "Unique list uisng loop is:  [20, 21, 30, 31]\n",
      "Unique list is:  [20, 21, 30, 31]\n"
     ]
    }
   ],
   "source": [
    "#13\n",
    "lst = []\n",
    "def dup_rm(x):\n",
    "    for i in range(0,x):\n",
    "        ip = int(input())\n",
    "        if ip not in lst:\n",
    "            lst.append(ip)\n",
    "        \n",
    "    print(\"Unique list uisng loop is: \", sorted(lst))\n",
    "    \n",
    "def uniq_final(x):\n",
    "    my_set = set(lst)\n",
    "    print(\"Unique list is: \", sorted(my_set))\n",
    "    \n",
    "    \n",
    "x = int(input(\"Enter the size of the list:  \"))\n",
    "dup_rm(x)\n",
    "uniq_final(x)"
   ]
  },
  {
   "cell_type": "code",
   "execution_count": 33,
   "metadata": {},
   "outputs": [
    {
     "name": "stdout",
     "output_type": "stream",
     "text": [
      "Original string is: My name is Michelle\n",
      "\n",
      "Reversed string is:  Michelle is name My\n"
     ]
    }
   ],
   "source": [
    "#15\n",
    "def str_rev(string):\n",
    "    new2 = ' '.join(string.split()[::-1])\n",
    "    print(\"\\nReversed string is: \", new2)\n",
    "    \n",
    "string = input(\"Original string is: \")\n",
    "str_rev(string)  "
   ]
  },
  {
   "cell_type": "code",
   "execution_count": 2,
   "metadata": {},
   "outputs": [
    {
     "name": "stdout",
     "output_type": "stream",
     "text": [
      "Do you want to generate password(Yes or No)?: yes\n",
      "How strong the password should be(Weak or medium or strong)??: medium\n",
      "\n",
      "Medium password is  NQ2Kb38\n",
      "\n",
      "Do you want another password?(yes or no): yes\n",
      "How strong the password should be(Weak or medium or strong)??: strong\n",
      "\n",
      "Strong password is  B/IqNp.m[2]\n",
      "\n",
      "Do you want another password?(yes or no): yes\n",
      "How strong the password should be(Weak or medium or strong)??: weak\n",
      "\n",
      "Weak password is  euhgp\n",
      "\n",
      "Do you want another password?(yes or no): no\n",
      "\n",
      " Thank you and Bye Bye..!!\n"
     ]
    }
   ],
   "source": [
    "#16\n",
    "import random\n",
    "import string\n",
    "\n",
    "upper = [u for u in string.ascii_uppercase.strip()]\n",
    "lower = [l for l in string.ascii_lowercase.strip()]\n",
    "num = [n for n in string.digits.strip()]\n",
    "special = [s for s in string.punctuation.strip()]\n",
    "ip = input(\"Do you want to generate password(Yes or No)?: \").lower()  \n",
    "\n",
    "       \n",
    "def weak_pwd(x):\n",
    "    pwd = random.sample(lower+num, 4)\n",
    "    pwd.insert(0, random.choice(lower))\n",
    "    print('\\nWeak password is ', ''.join(pwd))\n",
    "    \n",
    "def med_pwd(x):\n",
    "    pwd = random.sample(upper+lower+num, 5)\n",
    "    pwd.insert(0, random.choice(upper+lower))\n",
    "    pwd.insert(len(pwd)+1, random.choice(num))\n",
    "    print('\\nMedium password is ', ''.join(pwd))\n",
    "    \n",
    "def strong_pwd(x):\n",
    "    pwd = random.sample(upper+lower+num+special, 10)\n",
    "    pwd.insert(0, random.choice(upper+lower))\n",
    "    #pwd.insert(len(pwd)+1, random.choice(num))\n",
    "    print('\\nStrong password is ', ''.join(pwd))\n",
    "        \n",
    "\n",
    "                \n",
    "        \n",
    "while True:\n",
    "    if ip == 'no':\n",
    "        print(\"\\n Thank you and Bye Bye..!!\")\n",
    "        break  \n",
    "\n",
    "    else:\n",
    "        x = input(\"How strong the password should be(Weak or medium or strong)??: \").lower()     \n",
    "        if x == 'weak':\n",
    "            weak_pwd(x)\n",
    "        elif x == 'medium':\n",
    "            med_pwd(x)\n",
    "        elif x == 'strong':\n",
    "            strong_pwd(x)\n",
    "        else:\n",
    "            pass\n",
    "        \n",
    "        ip = input(\"\\nDo you want another password?(yes or no): \").lower()\n",
    "\n",
    "    "
   ]
  },
  {
   "cell_type": "code",
   "execution_count": null,
   "metadata": {},
   "outputs": [],
   "source": []
  }
 ],
 "metadata": {
  "kernelspec": {
   "display_name": "Python 3",
   "language": "python",
   "name": "python3"
  },
  "language_info": {
   "codemirror_mode": {
    "name": "ipython",
    "version": 3
   },
   "file_extension": ".py",
   "mimetype": "text/x-python",
   "name": "python",
   "nbconvert_exporter": "python",
   "pygments_lexer": "ipython3",
   "version": "3.7.1"
  }
 },
 "nbformat": 4,
 "nbformat_minor": 2
}
