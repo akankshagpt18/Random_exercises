{
 "cells": [
  {
   "cell_type": "code",
   "execution_count": 1,
   "metadata": {},
   "outputs": [
    {
     "name": "stdout",
     "output_type": "stream",
     "text": [
      "Enter you name Aku\n",
      "Enter you age: 50\n",
      "You name is:  Aku\n",
      "you will turn 100 in year 2069\n"
     ]
    }
   ],
   "source": [
    "#1\n",
    "name = input(\"Enter you name \")\n",
    "age = int(input(\"Enter you age: \"))\n",
    "\n",
    "\n",
    "print(\"You name is:  \" +name)\n",
    "print(\"you will turn 100 in year \" +str(2019-age+100))\n"
   ]
  },
  {
   "cell_type": "code",
   "execution_count": 2,
   "metadata": {},
   "outputs": [
    {
     "name": "stdout",
     "output_type": "stream",
     "text": [
      "Enter a number: 11502147\n",
      "11502147 is Odd\n"
     ]
    }
   ],
   "source": [
    "#2\n",
    "num1 = int(input(\"Enter a number: \"))\n",
    "if num1%2==0:\n",
    "    print(str(num1)+ \" is Even\")\n",
    "else:\n",
    "    print(str(num1)+ \" is Odd\")"
   ]
  },
  {
   "cell_type": "code",
   "execution_count": 3,
   "metadata": {},
   "outputs": [
    {
     "name": "stdout",
     "output_type": "stream",
     "text": [
      "[1, 1, 2, 3, 5]\n"
     ]
    }
   ],
   "source": [
    "#3\n",
    "a = [1, 1, 2, 3, 5, 8, 13, 21, 34, 55, 89]\n",
    "x = []\n",
    "for i in a:\n",
    "    if i <=5:\n",
    "        x.append(i)\n",
    "print(x)"
   ]
  },
  {
   "cell_type": "code",
   "execution_count": 4,
   "metadata": {},
   "outputs": [
    {
     "name": "stdout",
     "output_type": "stream",
     "text": [
      "Enter a number: 25\n",
      "[1, 5, 25]\n"
     ]
    }
   ],
   "source": [
    "#4\n",
    "\n",
    "num1 = int(input(\"Enter a number: \"))\n",
    "list = []\n",
    "\n",
    "for i in range(1, num1+1):\n",
    "    if num1%i ==0:\n",
    "        list.append(i)\n",
    "print(list)"
   ]
  },
  {
   "cell_type": "code",
   "execution_count": 5,
   "metadata": {},
   "outputs": [
    {
     "name": "stdout",
     "output_type": "stream",
     "text": [
      "[1, 2, 3, 5, 8, 13]\n"
     ]
    }
   ],
   "source": [
    "#5\n",
    "\n",
    "a = [1, 1, 2, 3, 5, 8, 13, 21, 34, 55, 89]\n",
    "b = [1, 2, 3, 4, 5, 6, 7, 8, 9, 10, 11, 12, 13]\n",
    "list= []\n",
    "\n",
    "print([i for i in set(a) if i in set(b)])"
   ]
  },
  {
   "cell_type": "code",
   "execution_count": 6,
   "metadata": {},
   "outputs": [
    {
     "name": "stdout",
     "output_type": "stream",
     "text": [
      "[1, 2, 3, 34, 5, 8, 13, 21, 55, 89]\n"
     ]
    }
   ],
   "source": [
    "x = range(1,10)\n",
    "y = range(2,15)\n",
    "\n",
    "        \n",
    "print([i for i in set(a) ])"
   ]
  },
  {
   "cell_type": "code",
   "execution_count": 7,
   "metadata": {},
   "outputs": [
    {
     "name": "stdout",
     "output_type": "stream",
     "text": [
      "Enter a string: coco\n",
      "COCO is not palindrome\n"
     ]
    }
   ],
   "source": [
    "#6\n",
    "str = input(\"Enter a string: \")\n",
    "if str[:]==str[::-1]:\n",
    "        print(str.upper()+ \" is Palindrome\")\n",
    "else:\n",
    "    print(str.upper()+ \" is not palindrome\")\n"
   ]
  },
  {
   "cell_type": "code",
   "execution_count": 8,
   "metadata": {},
   "outputs": [
    {
     "name": "stdout",
     "output_type": "stream",
     "text": [
      "[4, 16, 36, 64, 100]\n"
     ]
    }
   ],
   "source": [
    "#7\n",
    "a = [1, 4, 9, 16, 25, 36, 49, 64, 81, 100]\n",
    "list= []\n",
    "\n",
    "for i in a:\n",
    "    if i%2==0:\n",
    "        list.append(i)\n",
    "print(list)"
   ]
  },
  {
   "cell_type": "code",
   "execution_count": 9,
   "metadata": {},
   "outputs": [
    {
     "name": "stdout",
     "output_type": "stream",
     "text": [
      "[1, 2, 3, 5, 8, 13]\n"
     ]
    }
   ],
   "source": [
    "#10\n",
    "\n",
    "a = [1, 1, 2, 3, 5, 8, 13, 21, 34, 55, 89]\n",
    "b = [1, 2, 3, 4, 5, 6, 7, 8, 9, 10, 11, 12, 13]\n",
    "\n",
    "x = [i for i in set(a) if i in set(b)]\n",
    "print(x)"
   ]
  },
  {
   "cell_type": "code",
   "execution_count": 10,
   "metadata": {},
   "outputs": [
    {
     "name": "stdout",
     "output_type": "stream",
     "text": [
      "[9]\n"
     ]
    }
   ],
   "source": [
    "#extras\n",
    "import random\n",
    "a = random.sample(range(100), 8)\n",
    "b = random.sample(range(500), 12)\n",
    "\n",
    "x = [i for i in a if i in b]\n",
    "print(x)"
   ]
  },
  {
   "cell_type": "code",
   "execution_count": 18,
   "metadata": {},
   "outputs": [
    {
     "name": "stdout",
     "output_type": "stream",
     "text": [
      "[5, [80, 3, 21, 60, 96], 25]\n"
     ]
    }
   ],
   "source": [
    "#12\n",
    "\n",
    "import random\n",
    "\n",
    "a = [5, 10, 15, 20, 25]\n",
    "list1 = random.sample(range(100), 5)\n",
    "\n",
    "\n",
    "def get_list():\n",
    "    list = []\n",
    "    list.append(a[0])\n",
    "    list.append(list1)\n",
    "    list.append(a[-1])\n",
    "    return print(list)\n",
    "    \n",
    "get_list()"
   ]
  },
  {
   "cell_type": "code",
   "execution_count": null,
   "metadata": {},
   "outputs": [],
   "source": [
    "#13\n",
    "\n",
    "def get_num(prompt):\n",
    "    return int(input(prompt))\n",
    "\n",
    "num = get_num(\"Enter a number: \")\n",
    "\n",
    "for i in range(1, num):\n",
    "    print(i)"
   ]
  }
 ],
 "metadata": {
  "kernelspec": {
   "display_name": "Python 3",
   "language": "python",
   "name": "python3"
  },
  "language_info": {
   "codemirror_mode": {
    "name": "ipython",
    "version": 3
   },
   "file_extension": ".py",
   "mimetype": "text/x-python",
   "name": "python",
   "nbconvert_exporter": "python",
   "pygments_lexer": "ipython3",
   "version": "3.7.1"
  }
 },
 "nbformat": 4,
 "nbformat_minor": 2
}
